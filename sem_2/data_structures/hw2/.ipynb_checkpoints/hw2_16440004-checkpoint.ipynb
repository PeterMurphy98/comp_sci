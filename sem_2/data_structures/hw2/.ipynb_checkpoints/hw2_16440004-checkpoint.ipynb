{
 "cells": [
  {
   "cell_type": "markdown",
   "metadata": {},
   "source": [
    "<h1>Part I<br>1) </h1>"
   ]
  },
  {
   "cell_type": "code",
   "execution_count": 1,
   "metadata": {},
   "outputs": [],
   "source": [
    "# Each value in the list is a node\n",
    "class Node:\n",
    "    def __init__(self, value=None):\n",
    "        self.value = value\n",
    "        self.next = None\n",
    "\n",
    "class myLinkedList:\n",
    "    # Initialise the list with no values\n",
    "    def __init__(self):\n",
    "        self.head = None\n",
    "        self.tail = None\n",
    "            \n",
    "    def add_first(self, value):\n",
    "        new_head = Node(value)\n",
    "        # If list is empty, assign this node to head and tail\n",
    "        if self.head == None:\n",
    "            self.head = new_head\n",
    "            self.tail = new_head\n",
    "        # Else assign to head only\n",
    "        else:\n",
    "            new_head.next = self.head\n",
    "            self.head = new_head\n",
    "\n",
    "    def add_last(self, value):\n",
    "        new_last = Node(value)\n",
    "        # If list is empty, assign this node to head and tail\n",
    "        if self.head == None:\n",
    "            self.head = new_last\n",
    "            self.tail = new_last\n",
    "        # Else assign to tail only\n",
    "        else:\n",
    "            self.tail.next = new_last\n",
    "            self.tail = new_last\n",
    "            \n",
    "    def remove_first(self):\n",
    "        self.head = self.head.next\n",
    "        \n",
    "    def list_traversal(self):\n",
    "        node = self.head\n",
    "        while node is not None:\n",
    "            print(node.value)\n",
    "            node = node.next"
   ]
  },
  {
   "cell_type": "code",
   "execution_count": 2,
   "metadata": {},
   "outputs": [
    {
     "name": "stdout",
     "output_type": "stream",
     "text": [
      "4\n",
      "3\n",
      "2\n",
      "1\n",
      "0\n"
     ]
    }
   ],
   "source": [
    "list1 = myLinkedList()\n",
    "for i in range (5):\n",
    "    list1.add_first(i)\n",
    "list1.list_traversal()"
   ]
  },
  {
   "cell_type": "code",
   "execution_count": 3,
   "metadata": {},
   "outputs": [
    {
     "name": "stdout",
     "output_type": "stream",
     "text": [
      "4\n",
      "3\n",
      "2\n",
      "1\n",
      "0\n",
      "Last\n"
     ]
    }
   ],
   "source": [
    "list1.add_last('Last')\n",
    "list1.list_traversal()"
   ]
  },
  {
   "cell_type": "code",
   "execution_count": 4,
   "metadata": {},
   "outputs": [
    {
     "name": "stdout",
     "output_type": "stream",
     "text": [
      "3\n",
      "2\n",
      "1\n",
      "0\n",
      "Last\n"
     ]
    }
   ],
   "source": [
    "list1.remove_first()\n",
    "list1.list_traversal()"
   ]
  },
  {
   "cell_type": "markdown",
   "metadata": {},
   "source": [
    "<h1>2)</h1> <br>\n",
    "Stack ADT: A stack is a linear data stucture that operates by last in, first out. It's common methods are, \n",
    "<ul>\n",
    "    <li>size(), returns the size of the stack</li>\n",
    "    <li>empty(), returns if the size is 0</li>\n",
    "    <li>full(), returns if the size has reached it's maximum value</li>\n",
    "    <li>push(x), adds x to the top of the stack </li>\n",
    "    <li>peek(), returns the top element of the stack</li>\n",
    "    <li>pop(), returns and removes the top element of the stack</li>\n",
    "</ul>\n",
    "\n",
    "Queue ADT: A queue is a linear data structure that operares by first in, first out. It's common methods are,\n",
    "<ul>\n",
    "    <li>size(), returns the size of the queue</li>\n",
    "    <li>empty(), returns if the size is 0</li>\n",
    "    <li>full(), returns if the size has reached it's maximum value</li>\n",
    "    <li>enqueue(x), adds x to the back of the queue </li>\n",
    "    <li>peek(), returns the front element of the queue</li>\n",
    "    <li>dequeue(), returns and removes the front element of the queue</li>\n",
    "</ul>\n",
    "\n",
    "<h3>Examples</h3>\n",
    "<ol>\n",
    "    <li>\n",
    "The undo/redo stacks in Microsoft Word. When you \"undo\" something, it gets popped from the \"undo\" stack, and pushed to the \"redo\" stack.\n",
    "    </li>\n",
    "    <li>\n",
    "Postfix calculators use a stack to evaluate mathematical expressions with the following method, <br>\n",
    "- Read from left to right <br>\n",
    "- If the current element is a number, push it to the stack <br>\n",
    "- If the current element is an operator, pop two elements from the stack, apply the operator, push the result to the stack.\n",
    "    </li>\n",
    "    <li>\n",
    "Operating systems can use queues to determine what processes get access to the CPU. There are different methods to determine the order of the queue, e.g. First Come First Served, where the processes are simply added to the queue in the order that they arrive.\n",
    "    </li>\n",
    "</ol>"
   ]
  },
  {
   "cell_type": "markdown",
   "metadata": {},
   "source": [
    "<h1>Part II</h1>"
   ]
  },
  {
   "cell_type": "code",
   "execution_count": 5,
   "metadata": {},
   "outputs": [],
   "source": [
    "# 1)\n",
    "class myStack:        \n",
    "    def __init__(self, values = None, max_size = 10**5):\n",
    "        self.values = [] if values is None else values\n",
    "        self.max_size = max_size\n",
    "        \n",
    "    def size(self):\n",
    "        return len(self.values)\n",
    "        \n",
    "    def empty(self):\n",
    "        if self.values == []:\n",
    "            return True\n",
    "        return False\n",
    "        \n",
    "    def full(self):\n",
    "        if len(self.values) == self.max_size:\n",
    "            return True\n",
    "        return False\n",
    "        \n",
    "    def push(self, value):\n",
    "        self.values.append(value)\n",
    "        \n",
    "    def peek(self):\n",
    "        return self.values[-1]\n",
    "    \n",
    "    def pop(self):\n",
    "        return self.values.pop()"
   ]
  },
  {
   "cell_type": "code",
   "execution_count": 6,
   "metadata": {},
   "outputs": [
    {
     "name": "stdout",
     "output_type": "stream",
     "text": [
      "Returned values: [3, 8, 2, 1, 6, 7, 4, 9]\n"
     ]
    }
   ],
   "source": [
    "# 2)\n",
    "stack1 = myStack()\n",
    "returned_values = []\n",
    "stack1.push(5)\n",
    "stack1.push(3)\n",
    "returned_values.append(stack1.pop())\n",
    "stack1.push(2)\n",
    "stack1.push(8)\n",
    "returned_values.append(stack1.pop())\n",
    "returned_values.append(stack1.pop())\n",
    "stack1.push(9)\n",
    "stack1.push(1)\n",
    "returned_values.append(stack1.pop())\n",
    "stack1.push(7)\n",
    "stack1.push(6)\n",
    "returned_values.append(stack1.pop())\n",
    "returned_values.append(stack1.pop())\n",
    "stack1.push(4)\n",
    "returned_values.append(stack1.pop())\n",
    "returned_values.append(stack1.pop())\n",
    "\n",
    "print(\"Returned values:\", returned_values)"
   ]
  },
  {
   "cell_type": "markdown",
   "metadata": {},
   "source": [
    "<h1>3)</h1><br>\n",
    "size of S = 35 push - (10-3) pop = 28  "
   ]
  },
  {
   "cell_type": "markdown",
   "metadata": {},
   "source": [
    "<h1>Part III</h1>"
   ]
  },
  {
   "cell_type": "code",
   "execution_count": 7,
   "metadata": {},
   "outputs": [],
   "source": [
    "class myQueue:        \n",
    "    def __init__(self, values = None, max_size = 10**5):\n",
    "        self.values = [] if values is None else values\n",
    "        self.max_size = max_size\n",
    "        \n",
    "    def size(self):\n",
    "        return len(self.values)\n",
    "        \n",
    "    def empty(self):\n",
    "        if self.values == []:\n",
    "            return True\n",
    "        return False\n",
    "        \n",
    "    def full(self):\n",
    "        if len(self.values) == self.max_size:\n",
    "            return True\n",
    "        return False\n",
    "        \n",
    "    def enqueue(self, value):\n",
    "        if len(self.values) < max_size:\n",
    "            self.values.append(value)\n",
    "        else:\n",
    "            print('Error: Queue is full.')\n",
    "        \n",
    "    def peek(self):\n",
    "        return self.values[0]\n",
    "    \n",
    "    def dequeue(self):\n",
    "        return self.values.pop(0)"
   ]
  },
  {
   "cell_type": "code",
   "execution_count": 8,
   "metadata": {},
   "outputs": [
    {
     "name": "stdout",
     "output_type": "stream",
     "text": [
      "Returned values: [5, 3, 2, 8, 9, 1, 7, 6]\n"
     ]
    }
   ],
   "source": [
    "# 2)\n",
    "queue1 = myQueue()\n",
    "returned_values2 = []\n",
    "queue1.enqueue(5)\n",
    "queue1.enqueue(3)\n",
    "returned_values2.append(queue1.dequeue())\n",
    "queue1.enqueue(2)\n",
    "queue1.enqueue(8)\n",
    "returned_values2.append(queue1.dequeue())\n",
    "returned_values2.append(queue1.dequeue())\n",
    "queue1.enqueue(9)\n",
    "queue1.enqueue(1)\n",
    "returned_values2.append(queue1.dequeue())\n",
    "queue1.enqueue(7)\n",
    "queue1.enqueue(6)\n",
    "returned_values2.append(queue1.dequeue())\n",
    "returned_values2.append(queue1.dequeue())\n",
    "queue1.enqueue(4)\n",
    "returned_values2.append(queue1.dequeue())\n",
    "returned_values2.append(queue1.dequeue())\n",
    "\n",
    "print(\"Returned values:\", returned_values2)"
   ]
  },
  {
   "cell_type": "markdown",
   "metadata": {},
   "source": [
    "<h1>3)</h1><br>\n",
    "size of Q = 50 enqueue - (15-5) dequeue = 40"
   ]
  },
  {
   "cell_type": "code",
   "execution_count": null,
   "metadata": {},
   "outputs": [],
   "source": []
  }
 ],
 "metadata": {
  "kernelspec": {
   "display_name": "Python 3",
   "language": "python",
   "name": "python3"
  },
  "language_info": {
   "codemirror_mode": {
    "name": "ipython",
    "version": 3
   },
   "file_extension": ".py",
   "mimetype": "text/x-python",
   "name": "python",
   "nbconvert_exporter": "python",
   "pygments_lexer": "ipython3",
   "version": "3.8.5"
  }
 },
 "nbformat": 4,
 "nbformat_minor": 4
}
