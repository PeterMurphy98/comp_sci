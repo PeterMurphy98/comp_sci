{
 "cells": [
  {
   "cell_type": "code",
   "execution_count": 56,
   "metadata": {},
   "outputs": [],
   "source": [
    "def convert(B):\n",
    "    if B == \"0000\":\n",
    "        return \"11110\"\n",
    "    if B == \"0001\":\n",
    "        return \"01001\"\n",
    "    if B == \"0010\":\n",
    "        return \"10100\"\n",
    "    if B == \"0011\":\n",
    "        return \"10101\"        \n",
    "    if B == \"0100\":\n",
    "        return \"01010\"\n",
    "    if B == \"0101\":\n",
    "        return \"01011\"\n",
    "    if B == \"0110\":\n",
    "        return \"01110\"\n",
    "    if B == \"0111\":\n",
    "        return \"01111\"\n",
    "    if B == \"1000\":\n",
    "        return \"10010\"\n",
    "    if B == \"1001\":\n",
    "        return \"10011\"\n",
    "    if B == \"1010\":\n",
    "        return \"10110\"\n",
    "    if B == \"1011\":\n",
    "        return \"10111\"\n",
    "    if B == \"1100\":\n",
    "        return \"11010\"\n",
    "    if B == \"1101\":\n",
    "        return \"11011\"\n",
    "    if B == \"1110\":\n",
    "        return \"11100\"\n",
    "    if B == \"1111\":\n",
    "        return \"11101\"\n",
    "\n",
    "def modulateInputs(s):\n",
    "    if isinstance(s, str):\n",
    "        if set(s) == {'0','1'}:\n",
    "            if (len(s)%4 == 0):\n",
    "                res = \"\"\n",
    "                for i in range(len(s)//4):\n",
    "                    res += convert(s[i*4:(i+1)*4])\n",
    "                return res\n",
    "    return \"Error: Input must be in 4 bit binary\""
   ]
  },
  {
   "cell_type": "code",
   "execution_count": 58,
   "metadata": {},
   "outputs": [
    {
     "data": {
      "text/plain": [
       "'11101111101101010011'"
      ]
     },
     "execution_count": 58,
     "metadata": {},
     "output_type": "execute_result"
    }
   ],
   "source": [
    "modulateInputs(\"1111000011001001\")"
   ]
  },
  {
   "cell_type": "code",
   "execution_count": null,
   "metadata": {},
   "outputs": [],
   "source": []
  }
 ],
 "metadata": {
  "kernelspec": {
   "display_name": "Python 3",
   "language": "python",
   "name": "python3"
  },
  "language_info": {
   "codemirror_mode": {
    "name": "ipython",
    "version": 3
   },
   "file_extension": ".py",
   "mimetype": "text/x-python",
   "name": "python",
   "nbconvert_exporter": "python",
   "pygments_lexer": "ipython3",
   "version": "3.8.5"
  }
 },
 "nbformat": 4,
 "nbformat_minor": 4
}
