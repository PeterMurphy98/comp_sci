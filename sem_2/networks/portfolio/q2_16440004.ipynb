{
 "cells": [
  {
   "cell_type": "code",
   "execution_count": 81,
   "metadata": {},
   "outputs": [],
   "source": [
    "def hammingEncode(s):\n",
    "    if isinstance(s, str):\n",
    "        if set(s) == {'0','1'}:\n",
    "            d = len(s)\n",
    "            for i in range(d):\n",
    "                if(2**i >= d + i + 1):\n",
    "                    m = i + d\n",
    "                    break\n",
    "\n",
    "            l = list(s)\n",
    "            res = ['P']*m\n",
    "            for i in range(1,1+m):\n",
    "                if not ((i != 0) and (i & (i-1) == 0)):\n",
    "                    res[i-1] = l.pop(0)\n",
    "\n",
    "            for i in range(m):\n",
    "                if res[i] == 'P':\n",
    "                    count = 0\n",
    "                    for j in range(1,m+1):\n",
    "                        # if ith bitwise is 1\n",
    "                        if(j & (i+1) == (i+1)):\n",
    "                            if (res[j-1] == '1'):\n",
    "                                count += 1            \n",
    "                    if count % 2 == 0:\n",
    "                        res[i] = '0'\n",
    "                    else:\n",
    "                        res[i] = '1'\n",
    "\n",
    "            return ''.join(res)"
   ]
  },
  {
   "cell_type": "code",
   "execution_count": 83,
   "metadata": {},
   "outputs": [
    {
     "data": {
      "text/plain": [
       "True"
      ]
     },
     "execution_count": 83,
     "metadata": {},
     "output_type": "execute_result"
    }
   ],
   "source": [
    "hammingEncode(\"11010110111010010000\") == '1110101101101110010010000'"
   ]
  },
  {
   "cell_type": "code",
   "execution_count": 86,
   "metadata": {},
   "outputs": [
    {
     "data": {
      "text/plain": [
       "True"
      ]
     },
     "execution_count": 86,
     "metadata": {},
     "output_type": "execute_result"
    }
   ],
   "source": [
    "hammingEncode('10111100010111110100') == '1010011111000100111110100'"
   ]
  },
  {
   "cell_type": "code",
   "execution_count": null,
   "metadata": {},
   "outputs": [],
   "source": []
  }
 ],
 "metadata": {
  "kernelspec": {
   "display_name": "Python 3",
   "language": "python",
   "name": "python3"
  },
  "language_info": {
   "codemirror_mode": {
    "name": "ipython",
    "version": 3
   },
   "file_extension": ".py",
   "mimetype": "text/x-python",
   "name": "python",
   "nbconvert_exporter": "python",
   "pygments_lexer": "ipython3",
   "version": "3.8.5"
  }
 },
 "nbformat": 4,
 "nbformat_minor": 4
}
