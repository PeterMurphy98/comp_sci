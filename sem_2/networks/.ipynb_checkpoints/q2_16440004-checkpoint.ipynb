{
 "cells": [
  {
   "cell_type": "code",
   "execution_count": 246,
   "metadata": {},
   "outputs": [],
   "source": [
    "def hammingEncode(s):\n",
    "    d = len(s)\n",
    "    for i in range(d):\n",
    "        if(2**i >= d + i + 1):\n",
    "            m = i + d\n",
    "            break\n",
    "            \n",
    "    l = list(s)\n",
    "    res = ['P']*m\n",
    "    for i in range(1,1+m):\n",
    "        if not ((i != 0) and (i & (i-1) == 0)):\n",
    "            res[i-1] = l.pop(0)\n",
    "    \n",
    "    for i in range(1,2):\n",
    "        if res[i-1] == None:\n",
    "            count = 0\n",
    "            for j in range(i):\n",
    "                if res[i+j] == '1':\n",
    "                    count += 1\n",
    "\n",
    "    return res"
   ]
  },
  {
   "cell_type": "code",
   "execution_count": 247,
   "metadata": {},
   "outputs": [
    {
     "data": {
      "text/plain": [
       "['P', 'P', '1', 'P', '1', '0', '0']"
      ]
     },
     "execution_count": 247,
     "metadata": {},
     "output_type": "execute_result"
    }
   ],
   "source": [
    "hammingEncode(\"1100\")"
   ]
  },
  {
   "cell_type": "code",
   "execution_count": 250,
   "metadata": {},
   "outputs": [],
   "source": [
    "res = hammingEncode(\"1100\")\n",
    "T = 7\n",
    "for i in range(T):\n",
    "    if res[i] == 'P':\n",
    "        count = 0\n",
    "        l1 = (T+1//2)//(i+1)\n",
    "        for j in range(l1):\n",
    "            count += res[ (i+1)*(j*2) : (i+1)*((j*2)+1) ].count('1')\n",
    "            \n",
    "        if count % 2 == 0:\n",
    "            res[i] = '0'\n",
    "        else:\n",
    "            res[i] = '1'"
   ]
  },
  {
   "cell_type": "code",
   "execution_count": 251,
   "metadata": {},
   "outputs": [
    {
     "data": {
      "text/plain": [
       "['0', '1', '1', '0', '1', '0', '0']"
      ]
     },
     "execution_count": 251,
     "metadata": {},
     "output_type": "execute_result"
    }
   ],
   "source": [
    "res"
   ]
  },
  {
   "cell_type": "code",
   "execution_count": null,
   "metadata": {},
   "outputs": [],
   "source": []
  }
 ],
 "metadata": {
  "kernelspec": {
   "display_name": "Python 3",
   "language": "python",
   "name": "python3"
  },
  "language_info": {
   "codemirror_mode": {
    "name": "ipython",
    "version": 3
   },
   "file_extension": ".py",
   "mimetype": "text/x-python",
   "name": "python",
   "nbconvert_exporter": "python",
   "pygments_lexer": "ipython3",
   "version": "3.8.5"
  }
 },
 "nbformat": 4,
 "nbformat_minor": 4
}
