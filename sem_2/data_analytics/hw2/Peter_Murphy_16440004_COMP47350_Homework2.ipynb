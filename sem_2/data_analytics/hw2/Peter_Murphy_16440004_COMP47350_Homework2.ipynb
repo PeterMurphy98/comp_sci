{
 "cells": [
  {
   "cell_type": "code",
   "execution_count": 1,
   "metadata": {},
   "outputs": [],
   "source": [
    "import pandas as pd \n",
    "import numpy as np\n",
    "import matplotlib.pyplot as plt\n",
    "\n",
    "from sklearn.linear_model import LinearRegression\n",
    "from sklearn.linear_model import LogisticRegression\n",
    "from sklearn.model_selection import train_test_split\n",
    "from sklearn import metrics\n",
    "from sklearn.model_selection import cross_validate\n",
    "from sklearn.model_selection import cross_val_score\n",
    "from sklearn.tree import DecisionTreeClassifier\n",
    "from sklearn.ensemble import RandomForestClassifier"
   ]
  },
  {
   "cell_type": "code",
   "execution_count": 5,
   "metadata": {},
   "outputs": [],
   "source": [
    "df = pd.read_csv('covid19-cdc-16440004.csv')"
   ]
  },
  {
   "cell_type": "code",
   "execution_count": 6,
   "metadata": {},
   "outputs": [],
   "source": [
    "# Change 'Missing' to 'Unknown'\n",
    "df.loc[((df['sex'] == 'Missing') | (df['sex'] == 'Other')), 'sex'] = 'Unknown'\n",
    "df.loc[(df['race_ethnicity_combined'] == 'Missing'), 'race_ethnicity_combined'] = 'Unknown'\n",
    "df.loc[((df['hosp_yn'] == 'Missing') | (df['hosp_yn'] == 'OTH')), 'hosp_yn'] = 'Unknown'\n",
    "df.loc[(df['icu_yn'] == 'Missing'), 'icu_yn'] = 'Unknown'\n",
    "df.loc[(df['medcond_yn'] == 'Missing'), 'medcond_yn'] = 'Unknown'"
   ]
  },
  {
   "cell_type": "code",
   "execution_count": 7,
   "metadata": {},
   "outputs": [],
   "source": [
    "# Change datatypes\n",
    "df = df.astype({\"age_group\": \"category\",\n",
    "                \"current_status\": 'category', \n",
    "                \"sex\": 'category', \n",
    "                \"race_ethnicity_combined\": 'category',\n",
    "                \"hosp_yn\": 'category', \n",
    "                \"icu_yn\": 'category', \n",
    "                \"death_yn\": 'category', \n",
    "                \"medcond_yn\": 'category'\n",
    "               })"
   ]
  },
  {
   "cell_type": "code",
   "execution_count": 8,
   "metadata": {},
   "outputs": [],
   "source": [
    "# Split df into train and test\n",
    "train, test = train_test_split(df, test_size=0.3, random_state=42, shuffle=True)\n",
    "# total for death = yes/no in train set\n",
    "death_count_yes = train.loc[train['death_yn'] == \"Yes\"].shape[0]\n",
    "death_count_no = train.loc[train['death_yn'] == \"No\"].shape[0]"
   ]
  },
  {
   "cell_type": "code",
   "execution_count": 9,
   "metadata": {},
   "outputs": [
    {
     "data": {
      "text/plain": [
       "<matplotlib.legend.Legend at 0x214ee4b93a0>"
      ]
     },
     "execution_count": 9,
     "metadata": {},
     "output_type": "execute_result"
    },
    {
     "data": {
      "image/png": "[encoded data removed]",
      "text/plain": [
       "<Figure size 432x288 with 1 Axes>"
      ]
     },
     "metadata": {
      "needs_background": "light"
     },
     "output_type": "display_data"
    }
   ],
   "source": [
    "# % of each age_group with death = yes/no\n",
    "width = 0.3\n",
    "age_list = [\"0 - 9 Years\", \"10 - 19 Years\", \"20 - 29 Years\", \"30 - 39 Years\", \"40 - 49 Years\", \n",
    "            \"50 - 59 Years\", \"60 - 69 Years\", \"70 - 79 Years\", \"80+ Years\", \"Missing\"]\n",
    "age_no = train.loc[train['death_yn'] == \"No\"]['age_group'].value_counts().reindex(age_list)*100/death_count_no\n",
    "age_yes = train.loc[train['death_yn'] == \"Yes\"]['age_group'].value_counts().reindex(age_list)*100/death_count_yes\n",
    "x_age1 = np.arange(len(age_no))\n",
    "x_age2 = [x + width for x in x_age1]\n",
    "plt.bar(x_age1, age_no, width=width, label='Death = No')\n",
    "plt.bar(x_age2, age_yes, width=width, label='Death = Yes')\n",
    "plt.title('Age group')\n",
    "plt.xticks([r + width/2 for r in range(len(age_no))], [\"0-9\", \"10s\", \"20s\", \"30s\", \"40s\", \"50s\", \"60s\", \"70s\", \"80+\", \"Missing\"])\n",
    "plt.ylabel('% of cases', fontweight='bold')\n",
    "plt.legend()"
   ]
  },
  {
   "cell_type": "code",
   "execution_count": 10,
   "metadata": {},
   "outputs": [
    {
     "data": {
      "text/plain": [
       "<matplotlib.legend.Legend at 0x214ee59dbe0>"
      ]
     },
     "execution_count": 10,
     "metadata": {},
     "output_type": "execute_result"
    },
    {
     "data": {
      "image/png": "[encoded data removed]",
      "text/plain": [
       "<Figure size 432x288 with 1 Axes>"
      ]
     },
     "metadata": {
      "needs_background": "light"
     },
     "output_type": "display_data"
    }
   ],
   "source": [
    "# % of each current_status with death = yes/no\n",
    "width = 0.3\n",
    "cur_st_no = train.loc[train['death_yn'] == \"No\"]['current_status'].value_counts()*100/death_count_no\n",
    "cur_st_list = cur_st_no.index.tolist()\n",
    "cur_st_yes = train.loc[train['death_yn'] == \"Yes\"]['current_status'].value_counts()*100/death_count_yes\n",
    "x_cur_st1 = np.arange(len(cur_st_no))\n",
    "x_cur_st2 = [x + width for x in x_cur_st1]\n",
    "plt.bar(x_cur_st1, cur_st_no, width=width, label='Death = No')\n",
    "plt.bar(x_cur_st2, cur_st_yes, width=width, label='Death = Yes')\n",
    "plt.title('Current status')\n",
    "plt.xticks([r + width/2 for r in range(len(cur_st_no))], cur_st_list)\n",
    "plt.ylabel('% of cases', fontweight='bold')\n",
    "plt.legend()"
   ]
  },
  {
   "cell_type": "code",
   "execution_count": 11,
   "metadata": {},
   "outputs": [
    {
     "data": {
      "text/plain": [
       "<matplotlib.legend.Legend at 0x214ee602ca0>"
      ]
     },
     "execution_count": 11,
     "metadata": {},
     "output_type": "execute_result"
    },
    {
     "data": {
      "image/png": "[encoded data removed]",
      "text/plain": [
       "<Figure size 432x288 with 1 Axes>"
      ]
     },
     "metadata": {
      "needs_background": "light"
     },
     "output_type": "display_data"
    }
   ],
   "source": [
    "# % of each sex with death = yes/no\n",
    "sex_no = train.loc[train['death_yn'] == \"No\"]['sex'].value_counts()*100/death_count_no\n",
    "sex_list = sex_no.index.tolist()\n",
    "sex_yes = train.loc[train['death_yn'] == \"Yes\"]['sex'].value_counts()*100/death_count_yes\n",
    "x_sex1 = np.arange(len(sex_no))\n",
    "x_sex2 = [x + width for x in x_sex1]\n",
    "plt.bar(x_sex1, sex_no, width=width, label='Death = No')\n",
    "plt.bar(x_sex2, sex_yes, width=width, label='Death = Yes')\n",
    "plt.title('Sex')\n",
    "plt.xticks([r + width/2 for r in range(len(sex_yes))], sex_list)\n",
    "plt.ylabel('% of cases', fontweight='bold')\n",
    "plt.legend()"
   ]
  },
  {
   "cell_type": "code",
   "execution_count": 12,
   "metadata": {},
   "outputs": [
    {
     "data": {
      "text/plain": [
       "<matplotlib.legend.Legend at 0x214ee665f40>"
      ]
     },
     "execution_count": 12,
     "metadata": {},
     "output_type": "execute_result"
    },
    {
     "data": {
      "image/png": "[encoded data removed]",
      "text/plain": [
       "<Figure size 432x288 with 1 Axes>"
      ]
     },
     "metadata": {
      "needs_background": "light"
     },
     "output_type": "display_data"
    }
   ],
   "source": [
    "# % of each race with death = yes/no\n",
    "race_no = train.loc[train['death_yn'] == \"No\"]['race_ethnicity_combined'].value_counts()*100/death_count_no\n",
    "race_list = race_no.index.tolist()\n",
    "race_yes = train.loc[train['death_yn'] == \"Yes\"]['race_ethnicity_combined'].value_counts().reindex(train.race_ethnicity_combined.unique(), fill_value=0)*100/death_count_yes\n",
    "race_yes = race_yes.reindex(race_no.index.tolist())\n",
    "x_race1 = np.arange(len(race_no))\n",
    "x_race2 = [x + width for x in x_race1]\n",
    "plt.bar(x_race1, race_no, width=width, label='Death = No')\n",
    "plt.bar(x_race2, race_yes, width=width, label='Death = Yes')\n",
    "plt.title('Race')\n",
    "plt.xticks([r + width/2 for r in range(len(race_no))], race_list, rotation=90)\n",
    "plt.ylabel('% of cases', fontweight='bold')\n",
    "plt.legend()"
   ]
  },
  {
   "cell_type": "code",
   "execution_count": 13,
   "metadata": {},
   "outputs": [
    {
     "data": {
      "text/plain": [
       "<matplotlib.legend.Legend at 0x214ee6edf10>"
      ]
     },
     "execution_count": 13,
     "metadata": {},
     "output_type": "execute_result"
    },
    {
     "data": {
      "image/png": "[encoded data removed]",
      "text/plain": [
       "<Figure size 432x288 with 1 Axes>"
      ]
     },
     "metadata": {
      "needs_background": "light"
     },
     "output_type": "display_data"
    }
   ],
   "source": [
    "# % of each hosp_yn with death = yes/no\n",
    "hosp_no = train.loc[train['death_yn'] == \"No\"]['hosp_yn'].value_counts()*100/death_count_no\n",
    "hosp_list = hosp_no.index.tolist()\n",
    "hosp_yes = train.loc[train['death_yn'] == \"Yes\"]['hosp_yn'].value_counts()*100/death_count_yes\n",
    "x_hosp1 = np.arange(len(hosp_no))\n",
    "x_hosp2 = [x + width for x in x_hosp1]\n",
    "plt.bar(x_hosp1, hosp_no, width=width, label='Death = No')\n",
    "plt.bar(x_hosp2, hosp_yes, width=width, label='Death = Yes')\n",
    "plt.title('Hospitilization')\n",
    "plt.xticks([r + width/2 for r in range(len(hosp_no))], hosp_list)\n",
    "plt.ylabel('% of cases', fontweight='bold')\n",
    "plt.legend()"
   ]
  },
  {
   "cell_type": "code",
   "execution_count": 14,
   "metadata": {},
   "outputs": [
    {
     "data": {
      "text/plain": [
       "<matplotlib.legend.Legend at 0x214ee75aca0>"
      ]
     },
     "execution_count": 14,
     "metadata": {},
     "output_type": "execute_result"
    },
    {
     "data": {
      "image/png": "[encoded data removed]",
      "text/plain": [
       "<Figure size 432x288 with 1 Axes>"
      ]
     },
     "metadata": {
      "needs_background": "light"
     },
     "output_type": "display_data"
    }
   ],
   "source": [
    "# % of each icu_yn with death = yes/no\n",
    "icu_no = train.loc[train['death_yn'] == \"No\"]['icu_yn'].value_counts()*100/death_count_no\n",
    "icu_list = icu_no.index.tolist()\n",
    "icu_yes = train.loc[train['death_yn'] == \"Yes\"]['icu_yn'].value_counts()*100/death_count_yes\n",
    "x_icu1 = np.arange(len(icu_no))\n",
    "x_icu2 = [x + width for x in x_icu1]\n",
    "plt.bar(x_icu1, icu_no, width=width, label='Death = No')\n",
    "plt.bar(x_icu2, icu_yes, width=width, label='Death = Yes')\n",
    "plt.title('ICU Admission')\n",
    "plt.xticks([r + width/2 for r in range(len(icu_no))], icu_list)\n",
    "plt.ylabel('% of cases', fontweight='bold')\n",
    "plt.legend()"
   ]
  },
  {
   "cell_type": "code",
   "execution_count": 15,
   "metadata": {},
   "outputs": [
    {
     "data": {
      "text/plain": [
       "<matplotlib.legend.Legend at 0x214ee59de50>"
      ]
     },
     "execution_count": 15,
     "metadata": {},
     "output_type": "execute_result"
    },
    {
     "data": {
      "image/png": "[encoded data removed]",
      "text/plain": [
       "<Figure size 432x288 with 1 Axes>"
      ]
     },
     "metadata": {
      "needs_background": "light"
     },
     "output_type": "display_data"
    }
   ],
   "source": [
    "# % of each medcond_yn with death = yes/no\n",
    "medcond_no = train.loc[train['death_yn'] == \"No\"]['medcond_yn'].value_counts()*100/death_count_no\n",
    "medcond_list = medcond_no.index.tolist()\n",
    "medcond_yes = train.loc[train['death_yn'] == \"Yes\"]['medcond_yn'].value_counts()*100/death_count_yes\n",
    "medcond_yes = medcond_yes.reindex(medcond_no.index.tolist())\n",
    "x_med1 = np.arange(len(medcond_no))\n",
    "x_med2 = [x + width for x in x_med1]\n",
    "plt.bar(x_med1, medcond_no, width=width, label='Death = No')\n",
    "plt.bar(x_med2, medcond_yes, width=width, label='Death = Yes')\n",
    "plt.title('Medical condition')\n",
    "plt.xticks([r + width/2 for r in range(len(medcond_no))], medcond_list)\n",
    "plt.ylabel('% of cases', fontweight='bold')\n",
    "plt.legend()"
   ]
  },
  {
   "cell_type": "markdown",
   "metadata": {},
   "source": [
    "<h3>(1.2)</h3>\n",
    "The age graph clearly shows the risk of death greatly increases at 70-79 years, and then again at 80+ years. <br>\n",
    "ICU admission and underlying medical condition also greatly ncrease the risk of death. <br>\n",
    "The rest of the features don't seem to have any correlation with the target feature."
   ]
  },
  {
   "cell_type": "code",
   "execution_count": 16,
   "metadata": {},
   "outputs": [],
   "source": [
    "# Q.2\n",
    "df_all = pd.get_dummies(df, drop_first=True)\n",
    "# Features used = age, hosp_yn, icu_yn, medcond_yn\n",
    "features =[]\n",
    "for col in df_all.columns:\n",
    "    if 'age' in col or 'hosp' in col or 'icu' in col or 'medcond' in col:\n",
    "        features.append(col)\n",
    "\n",
    "X = df_all[features]\n",
    "y = df_all.death_yn_Yes\n",
    "# Split into train and test dataframes\n",
    "X_train, X_test, y_train, y_test = train_test_split(X, y, test_size=0.3, random_state=42, shuffle=True)"
   ]
  },
  {
   "cell_type": "code",
   "execution_count": 17,
   "metadata": {},
   "outputs": [
    {
     "name": "stdout",
     "output_type": "stream",
     "text": [
      "Intercept:  -0.033168108585544226\n",
      "Features and coeficients:\n",
      "age_group_10 - 19 Years                                                          0.0020931623257419716\n",
      "age_group_20 - 29 Years                                                          -0.00019157072878245307\n",
      "age_group_30 - 39 Years                                                          -0.0017318123194586983\n",
      "age_group_40 - 49 Years                                                          -0.0010067473036988496\n",
      "age_group_50 - 59 Years                                                          -0.0004337322407279645\n",
      "age_group_60 - 69 Years                                                          0.02862622344888391\n",
      "age_group_70 - 79 Years                                                          0.1051080513301935\n",
      "age_group_80+ Years                                                              0.2748760731942081\n",
      "age_group_Missing                                                                0.004557859801515265\n",
      "hosp_yn_Unknown                                                                  0.008621587124905253\n",
      "hosp_yn_Yes                                                                      0.15833729335088165\n",
      "icu_yn_Unknown                                                                   0.033692110642957976\n",
      "icu_yn_Yes                                                                       0.4008824888001155\n",
      "medcond_yn_Unknown                                                               -0.006518793046412762\n",
      "medcond_yn_Yes                                                                   0.03704393334858834\n"
     ]
    }
   ],
   "source": [
    "model_lin = LinearRegression().fit(X_train, y_train)\n",
    "print(\"Intercept: \", model_lin.intercept_)\n",
    "print(\"Features and coeficients:\")\n",
    "for f in list(zip(features, model_lin.coef_)):\n",
    "    print('{:80} {}'.format(f[0], f[1]))"
   ]
  },
  {
   "cell_type": "markdown",
   "metadata": {},
   "source": [
    "<h3>(2.2)</h3>\n",
    "The target feature, death_yn, is 0 for \"No\" and 1 for \"Yes\", so a higher feature coefficient means higher correlation with death. <br>\n",
    "The age coefficients below 70 years are very small, and then drastically increase after 70 years. <br>\n",
    "Only four coefficients are greater than 0.1, age = 70-79, 80+, hosp_yn = Yes and icu_yn = Yes. All other coefficients are very small."
   ]
  },
  {
   "cell_type": "code",
   "execution_count": 18,
   "metadata": {},
   "outputs": [
    {
     "data": {
      "text/html": [
       "<div>\n",
       "<style scoped>\n",
       "    .dataframe tbody tr th:only-of-type {\n",
       "        vertical-align: middle;\n",
       "    }\n",
       "\n",
       "    .dataframe tbody tr th {\n",
       "        vertical-align: top;\n",
       "    }\n",
       "\n",
       "    .dataframe thead th {\n",
       "        text-align: right;\n",
       "    }\n",
       "</style>\n",
       "<table border=\"1\" class=\"dataframe\">\n",
       "  <thead>\n",
       "    <tr style=\"text-align: right;\">\n",
       "      <th></th>\n",
       "      <th>death_yn_Yes</th>\n",
       "      <th>Predicted</th>\n",
       "    </tr>\n",
       "  </thead>\n",
       "  <tbody>\n",
       "    <tr>\n",
       "      <th>6252</th>\n",
       "      <td>0</td>\n",
       "      <td>0.004720</td>\n",
       "    </tr>\n",
       "    <tr>\n",
       "      <th>4684</th>\n",
       "      <td>0</td>\n",
       "      <td>0.002193</td>\n",
       "    </tr>\n",
       "    <tr>\n",
       "      <th>1731</th>\n",
       "      <td>0</td>\n",
       "      <td>-0.006186</td>\n",
       "    </tr>\n",
       "    <tr>\n",
       "      <th>4742</th>\n",
       "      <td>0</td>\n",
       "      <td>0.000895</td>\n",
       "    </tr>\n",
       "    <tr>\n",
       "      <th>4521</th>\n",
       "      <td>0</td>\n",
       "      <td>-0.006429</td>\n",
       "    </tr>\n",
       "    <tr>\n",
       "      <th>6340</th>\n",
       "      <td>0</td>\n",
       "      <td>-0.007727</td>\n",
       "    </tr>\n",
       "    <tr>\n",
       "      <th>576</th>\n",
       "      <td>0</td>\n",
       "      <td>-0.007002</td>\n",
       "    </tr>\n",
       "    <tr>\n",
       "      <th>5202</th>\n",
       "      <td>0</td>\n",
       "      <td>-0.007002</td>\n",
       "    </tr>\n",
       "    <tr>\n",
       "      <th>6363</th>\n",
       "      <td>0</td>\n",
       "      <td>0.000895</td>\n",
       "    </tr>\n",
       "    <tr>\n",
       "      <th>439</th>\n",
       "      <td>0</td>\n",
       "      <td>0.039661</td>\n",
       "    </tr>\n",
       "  </tbody>\n",
       "</table>\n",
       "</div>"
      ],
      "text/plain": [
       "      death_yn_Yes  Predicted\n",
       "6252             0   0.004720\n",
       "4684             0   0.002193\n",
       "1731             0  -0.006186\n",
       "4742             0   0.000895\n",
       "4521             0  -0.006429\n",
       "6340             0  -0.007727\n",
       "576              0  -0.007002\n",
       "5202             0  -0.007002\n",
       "6363             0   0.000895\n",
       "439              0   0.039661"
      ]
     },
     "execution_count": 18,
     "metadata": {},
     "output_type": "execute_result"
    }
   ],
   "source": [
    "y_lin = model_lin.predict(X_test)\n",
    "lin_pred = pd.concat([y_test, pd.DataFrame(y_lin, columns=['Predicted'], index=X_test.index)], axis=1)\n",
    "lin_pred.head(10)"
   ]
  },
  {
   "cell_type": "code",
   "execution_count": 19,
   "metadata": {},
   "outputs": [
    {
     "name": "stdout",
     "output_type": "stream",
     "text": [
      "Real    Predicted\n",
      "No      No     \n",
      "No      No     \n",
      "No      No     \n",
      "No      No     \n",
      "No      No     \n",
      "No      No     \n",
      "No      No     \n",
      "No      No     \n",
      "No      No     \n",
      "No      No     \n"
     ]
    }
   ],
   "source": [
    "print('Real    Predicted')\n",
    "for row in lin_pred.head(10).iterrows():\n",
    "    if row[1][0] == 1:\n",
    "        real = 'Yes'\n",
    "    else:\n",
    "        real = 'No'\n",
    "    if row[1][1] > 0.5:\n",
    "        pred = 'Yes'\n",
    "    else:\n",
    "        pred = 'No'\n",
    "    print('{:7} {:7}'.format(real, pred))"
   ]
  },
  {
   "cell_type": "code",
   "execution_count": 20,
   "metadata": {},
   "outputs": [
    {
     "name": "stdout",
     "output_type": "stream",
     "text": [
      "\n",
      "==============================================================================\n",
      "MAE:  0.05552660521037998\n",
      "RMSE:  0.15592320275744073\n",
      "R2:  0.2801763091594974\n"
     ]
    }
   ],
   "source": [
    "#This function is used repeatedly to compute all metrics\n",
    "def printMetrics(testActualVal, predictions):\n",
    "    #classification evaluation measures\n",
    "    print('\\n==============================================================================')\n",
    "    print(\"MAE: \", metrics.mean_absolute_error(testActualVal, predictions))\n",
    "    print(\"RMSE: \", metrics.mean_squared_error(testActualVal, predictions)**0.5)\n",
    "    print(\"R2: \", metrics.r2_score(testActualVal, predictions))\n",
    "    \n",
    "printMetrics(y_test, y_lin)"
   ]
  },
  {
   "cell_type": "code",
   "execution_count": 21,
   "metadata": {},
   "outputs": [
    {
     "name": "stdout",
     "output_type": "stream",
     "text": [
      "[0.05433265 0.05097757 0.05225658 0.05686812 0.05758079]\n",
      "Avg MAE score over 5 folds: 0.05440314166820308\n",
      "Stddev MAE score over 5 folds: 0.0025503245160784296\n"
     ]
    }
   ],
   "source": [
    "scores1 = -cross_val_score(LinearRegression(), X, y, scoring='neg_mean_absolute_error', cv=5)\n",
    "print(scores1)\n",
    "print(\"Avg MAE score over 5 folds:\", np.mean(scores1))\n",
    "print(\"Stddev MAE score over 5 folds:\", np.std(scores1))"
   ]
  },
  {
   "cell_type": "code",
   "execution_count": 22,
   "metadata": {},
   "outputs": [
    {
     "data": {
      "text/plain": [
       "{'fit_time': array([0.006989  , 0.00600338, 0.00598359, 0.00600338, 0.00500059]),\n",
       " 'score_time': array([0.00299668, 0.00401545, 0.00199914, 0.00399876, 0.00300002]),\n",
       " 'test_neg_mean_absolute_error': array([-0.05433265, -0.05097757, -0.05225658, -0.05686812, -0.05758079]),\n",
       " 'test_neg_mean_squared_error': array([-0.02415612, -0.02107609, -0.02127924, -0.02550736, -0.02376025]),\n",
       " 'test_r2': array([0.30393831, 0.25153289, 0.28037147, 0.20067199, 0.32437391])}"
      ]
     },
     "execution_count": 22,
     "metadata": {},
     "output_type": "execute_result"
    }
   ],
   "source": [
    "eval_measures = ['neg_mean_absolute_error', 'neg_mean_squared_error', 'r2']\n",
    "scores = cross_validate(LinearRegression(), X, y, scoring=eval_measures, cv=5)\n",
    "scores"
   ]
  },
  {
   "cell_type": "code",
   "execution_count": 23,
   "metadata": {},
   "outputs": [
    {
     "name": "stdout",
     "output_type": "stream",
     "text": [
      "[0.02415612 0.02107609 0.02127924 0.02550736 0.02376025]\n",
      "Avg RMSE score over 5 folds: 0.152065264810585\n",
      "Stddev RMSE score over 5 folds: 0.0056538102252612875\n"
     ]
    }
   ],
   "source": [
    "scores2 = -cross_val_score(LinearRegression(), X, y, scoring='neg_mean_squared_error', cv=5)\n",
    "print(scores2)\n",
    "rmse = scores2**0.5\n",
    "print(\"Avg RMSE score over 5 folds:\", np.mean(rmse))\n",
    "print(\"Stddev RMSE score over 5 folds:\", np.std(rmse))"
   ]
  },
  {
   "cell_type": "markdown",
   "metadata": {},
   "source": [
    "<h2>Q.3</h2>"
   ]
  },
  {
   "cell_type": "code",
   "execution_count": 24,
   "metadata": {},
   "outputs": [
    {
     "name": "stdout",
     "output_type": "stream",
     "text": [
      "Intercept:  [-6.44655863]\n",
      "\n",
      "Coeficients:\n",
      " [-1.38543673 -1.26476042 -1.1259293  -0.6411179  -0.0611981   1.33022457\n",
      "  2.30660797  3.35137209 -0.03758141  0.65023838  2.17377311  0.73193135\n",
      "  2.45684471  0.46730343  1.46389967]\n"
     ]
    }
   ],
   "source": [
    "model_log = LogisticRegression().fit(X_train, y_train)\n",
    "print(\"Intercept: \", model_log.intercept_)\n",
    "print(\"\\nCoeficients:\\n\", model_log.coef_[0])"
   ]
  },
  {
   "cell_type": "code",
   "execution_count": 25,
   "metadata": {},
   "outputs": [
    {
     "data": {
      "text/html": [
       "<div>\n",
       "<style scoped>\n",
       "    .dataframe tbody tr th:only-of-type {\n",
       "        vertical-align: middle;\n",
       "    }\n",
       "\n",
       "    .dataframe tbody tr th {\n",
       "        vertical-align: top;\n",
       "    }\n",
       "\n",
       "    .dataframe thead th {\n",
       "        text-align: right;\n",
       "    }\n",
       "</style>\n",
       "<table border=\"1\" class=\"dataframe\">\n",
       "  <thead>\n",
       "    <tr style=\"text-align: right;\">\n",
       "      <th></th>\n",
       "      <th>death_yn_Yes</th>\n",
       "      <th>Predicted</th>\n",
       "    </tr>\n",
       "  </thead>\n",
       "  <tbody>\n",
       "    <tr>\n",
       "      <th>6252</th>\n",
       "      <td>0</td>\n",
       "      <td>0</td>\n",
       "    </tr>\n",
       "    <tr>\n",
       "      <th>4684</th>\n",
       "      <td>0</td>\n",
       "      <td>0</td>\n",
       "    </tr>\n",
       "    <tr>\n",
       "      <th>1731</th>\n",
       "      <td>0</td>\n",
       "      <td>0</td>\n",
       "    </tr>\n",
       "    <tr>\n",
       "      <th>4742</th>\n",
       "      <td>0</td>\n",
       "      <td>0</td>\n",
       "    </tr>\n",
       "    <tr>\n",
       "      <th>4521</th>\n",
       "      <td>0</td>\n",
       "      <td>0</td>\n",
       "    </tr>\n",
       "    <tr>\n",
       "      <th>6340</th>\n",
       "      <td>0</td>\n",
       "      <td>0</td>\n",
       "    </tr>\n",
       "    <tr>\n",
       "      <th>576</th>\n",
       "      <td>0</td>\n",
       "      <td>0</td>\n",
       "    </tr>\n",
       "    <tr>\n",
       "      <th>5202</th>\n",
       "      <td>0</td>\n",
       "      <td>0</td>\n",
       "    </tr>\n",
       "    <tr>\n",
       "      <th>6363</th>\n",
       "      <td>0</td>\n",
       "      <td>0</td>\n",
       "    </tr>\n",
       "    <tr>\n",
       "      <th>439</th>\n",
       "      <td>0</td>\n",
       "      <td>0</td>\n",
       "    </tr>\n",
       "  </tbody>\n",
       "</table>\n",
       "</div>"
      ],
      "text/plain": [
       "      death_yn_Yes  Predicted\n",
       "6252             0          0\n",
       "4684             0          0\n",
       "1731             0          0\n",
       "4742             0          0\n",
       "4521             0          0\n",
       "6340             0          0\n",
       "576              0          0\n",
       "5202             0          0\n",
       "6363             0          0\n",
       "439              0          0"
      ]
     },
     "execution_count": 25,
     "metadata": {},
     "output_type": "execute_result"
    }
   ],
   "source": [
    "y_log = model_log.predict(X_test)\n",
    "log_pred = pd.concat([y_test, pd.DataFrame(y_log, columns=['Predicted'], index=X_test.index)], axis=1)\n",
    "log_pred.head(10)"
   ]
  },
  {
   "cell_type": "code",
   "execution_count": 46,
   "metadata": {},
   "outputs": [
    {
     "name": "stdout",
     "output_type": "stream",
     "text": [
      "Accuracy:  0.9683333333333334\n",
      "Confusion matrix: \n",
      " [[2874   21]\n",
      " [  74   31]]\n",
      "Classification report:\n",
      "                precision    recall  f1-score   support\n",
      "\n",
      "           0       0.97      0.99      0.98      2895\n",
      "           1       0.60      0.30      0.39       105\n",
      "\n",
      "    accuracy                           0.97      3000\n",
      "   macro avg       0.79      0.64      0.69      3000\n",
      "weighted avg       0.96      0.97      0.96      3000\n",
      "\n"
     ]
    }
   ],
   "source": [
    "print(\"Accuracy: \", metrics.accuracy_score(y_test, y_log))\n",
    "print(\"Confusion matrix: \\n\", metrics.confusion_matrix(y_test, y_log))\n",
    "print(\"Classification report:\\n \", metrics.classification_report(y_test, y_log))"
   ]
  },
  {
   "cell_type": "markdown",
   "metadata": {},
   "source": [
    "<h2>Q.4</h2>"
   ]
  },
  {
   "cell_type": "code",
   "execution_count": 27,
   "metadata": {},
   "outputs": [
    {
     "data": {
      "text/html": [
       "<div>\n",
       "<style scoped>\n",
       "    .dataframe tbody tr th:only-of-type {\n",
       "        vertical-align: middle;\n",
       "    }\n",
       "\n",
       "    .dataframe tbody tr th {\n",
       "        vertical-align: top;\n",
       "    }\n",
       "\n",
       "    .dataframe thead th {\n",
       "        text-align: right;\n",
       "    }\n",
       "</style>\n",
       "<table border=\"1\" class=\"dataframe\">\n",
       "  <thead>\n",
       "    <tr style=\"text-align: right;\">\n",
       "      <th></th>\n",
       "      <th>feature</th>\n",
       "      <th>importance</th>\n",
       "    </tr>\n",
       "  </thead>\n",
       "  <tbody>\n",
       "    <tr>\n",
       "      <th>0</th>\n",
       "      <td>age_group_10 - 19 Years</td>\n",
       "      <td>0.004984</td>\n",
       "    </tr>\n",
       "    <tr>\n",
       "      <th>1</th>\n",
       "      <td>age_group_20 - 29 Years</td>\n",
       "      <td>0.014218</td>\n",
       "    </tr>\n",
       "    <tr>\n",
       "      <th>2</th>\n",
       "      <td>age_group_30 - 39 Years</td>\n",
       "      <td>0.017676</td>\n",
       "    </tr>\n",
       "    <tr>\n",
       "      <th>3</th>\n",
       "      <td>age_group_40 - 49 Years</td>\n",
       "      <td>0.019693</td>\n",
       "    </tr>\n",
       "    <tr>\n",
       "      <th>4</th>\n",
       "      <td>age_group_50 - 59 Years</td>\n",
       "      <td>0.016503</td>\n",
       "    </tr>\n",
       "    <tr>\n",
       "      <th>5</th>\n",
       "      <td>age_group_60 - 69 Years</td>\n",
       "      <td>0.017601</td>\n",
       "    </tr>\n",
       "    <tr>\n",
       "      <th>6</th>\n",
       "      <td>age_group_70 - 79 Years</td>\n",
       "      <td>0.067846</td>\n",
       "    </tr>\n",
       "    <tr>\n",
       "      <th>7</th>\n",
       "      <td>age_group_80+ Years</td>\n",
       "      <td>0.286282</td>\n",
       "    </tr>\n",
       "    <tr>\n",
       "      <th>8</th>\n",
       "      <td>age_group_Missing</td>\n",
       "      <td>0.000014</td>\n",
       "    </tr>\n",
       "    <tr>\n",
       "      <th>9</th>\n",
       "      <td>hosp_yn_Unknown</td>\n",
       "      <td>0.019046</td>\n",
       "    </tr>\n",
       "    <tr>\n",
       "      <th>10</th>\n",
       "      <td>hosp_yn_Yes</td>\n",
       "      <td>0.257927</td>\n",
       "    </tr>\n",
       "    <tr>\n",
       "      <th>11</th>\n",
       "      <td>icu_yn_Unknown</td>\n",
       "      <td>0.055305</td>\n",
       "    </tr>\n",
       "    <tr>\n",
       "      <th>12</th>\n",
       "      <td>icu_yn_Yes</td>\n",
       "      <td>0.139831</td>\n",
       "    </tr>\n",
       "    <tr>\n",
       "      <th>13</th>\n",
       "      <td>medcond_yn_Unknown</td>\n",
       "      <td>0.032990</td>\n",
       "    </tr>\n",
       "    <tr>\n",
       "      <th>14</th>\n",
       "      <td>medcond_yn_Yes</td>\n",
       "      <td>0.050083</td>\n",
       "    </tr>\n",
       "  </tbody>\n",
       "</table>\n",
       "</div>"
      ],
      "text/plain": [
       "                    feature  importance\n",
       "0   age_group_10 - 19 Years    0.004984\n",
       "1   age_group_20 - 29 Years    0.014218\n",
       "2   age_group_30 - 39 Years    0.017676\n",
       "3   age_group_40 - 49 Years    0.019693\n",
       "4   age_group_50 - 59 Years    0.016503\n",
       "5   age_group_60 - 69 Years    0.017601\n",
       "6   age_group_70 - 79 Years    0.067846\n",
       "7       age_group_80+ Years    0.286282\n",
       "8         age_group_Missing    0.000014\n",
       "9           hosp_yn_Unknown    0.019046\n",
       "10              hosp_yn_Yes    0.257927\n",
       "11           icu_yn_Unknown    0.055305\n",
       "12               icu_yn_Yes    0.139831\n",
       "13       medcond_yn_Unknown    0.032990\n",
       "14           medcond_yn_Yes    0.050083"
      ]
     },
     "execution_count": 27,
     "metadata": {},
     "output_type": "execute_result"
    }
   ],
   "source": [
    "# Train RF with 100 trees\n",
    "rfc = RandomForestClassifier(n_estimators=100, max_features='auto', oob_score=True, random_state=1)\n",
    "rfc.fit(X_train, y_train)\n",
    "pd.DataFrame({'feature': X_train.columns, 'importance':rfc.feature_importances_})"
   ]
  },
  {
   "cell_type": "code",
   "execution_count": 28,
   "metadata": {},
   "outputs": [
    {
     "data": {
      "text/html": [
       "<div>\n",
       "<style scoped>\n",
       "    .dataframe tbody tr th:only-of-type {\n",
       "        vertical-align: middle;\n",
       "    }\n",
       "\n",
       "    .dataframe tbody tr th {\n",
       "        vertical-align: top;\n",
       "    }\n",
       "\n",
       "    .dataframe thead th {\n",
       "        text-align: right;\n",
       "    }\n",
       "</style>\n",
       "<table border=\"1\" class=\"dataframe\">\n",
       "  <thead>\n",
       "    <tr style=\"text-align: right;\">\n",
       "      <th></th>\n",
       "      <th>death_yn_Yes</th>\n",
       "      <th>Predicted</th>\n",
       "    </tr>\n",
       "  </thead>\n",
       "  <tbody>\n",
       "    <tr>\n",
       "      <th>6252</th>\n",
       "      <td>0</td>\n",
       "      <td>0</td>\n",
       "    </tr>\n",
       "    <tr>\n",
       "      <th>4684</th>\n",
       "      <td>0</td>\n",
       "      <td>0</td>\n",
       "    </tr>\n",
       "    <tr>\n",
       "      <th>1731</th>\n",
       "      <td>0</td>\n",
       "      <td>0</td>\n",
       "    </tr>\n",
       "    <tr>\n",
       "      <th>4742</th>\n",
       "      <td>0</td>\n",
       "      <td>0</td>\n",
       "    </tr>\n",
       "    <tr>\n",
       "      <th>4521</th>\n",
       "      <td>0</td>\n",
       "      <td>0</td>\n",
       "    </tr>\n",
       "    <tr>\n",
       "      <th>6340</th>\n",
       "      <td>0</td>\n",
       "      <td>0</td>\n",
       "    </tr>\n",
       "    <tr>\n",
       "      <th>576</th>\n",
       "      <td>0</td>\n",
       "      <td>0</td>\n",
       "    </tr>\n",
       "    <tr>\n",
       "      <th>5202</th>\n",
       "      <td>0</td>\n",
       "      <td>0</td>\n",
       "    </tr>\n",
       "    <tr>\n",
       "      <th>6363</th>\n",
       "      <td>0</td>\n",
       "      <td>0</td>\n",
       "    </tr>\n",
       "    <tr>\n",
       "      <th>439</th>\n",
       "      <td>0</td>\n",
       "      <td>0</td>\n",
       "    </tr>\n",
       "  </tbody>\n",
       "</table>\n",
       "</div>"
      ],
      "text/plain": [
       "      death_yn_Yes  Predicted\n",
       "6252             0          0\n",
       "4684             0          0\n",
       "1731             0          0\n",
       "4742             0          0\n",
       "4521             0          0\n",
       "6340             0          0\n",
       "576              0          0\n",
       "5202             0          0\n",
       "6363             0          0\n",
       "439              0          0"
      ]
     },
     "execution_count": 28,
     "metadata": {},
     "output_type": "execute_result"
    }
   ],
   "source": [
    "y_rfc = rfc.predict(X_test)\n",
    "rfc_pred = pd.concat([y_test, pd.DataFrame(y_rfc, columns=['Predicted'], index=X_test.index)], axis=1)\n",
    "rfc_pred.head(10)"
   ]
  },
  {
   "cell_type": "code",
   "execution_count": 29,
   "metadata": {},
   "outputs": [
    {
     "name": "stdout",
     "output_type": "stream",
     "text": [
      "Accuracy:  0.9663333333333334\n",
      "Confusion matrix: \n",
      " [[2884   11]\n",
      " [  90   15]]\n",
      "Classification report:\n",
      "                precision    recall  f1-score   support\n",
      "\n",
      "           0       0.97      1.00      0.98      2895\n",
      "           1       0.58      0.14      0.23       105\n",
      "\n",
      "    accuracy                           0.97      3000\n",
      "   macro avg       0.77      0.57      0.61      3000\n",
      "weighted avg       0.96      0.97      0.96      3000\n",
      "\n"
     ]
    }
   ],
   "source": [
    "print(\"Accuracy: \", metrics.accuracy_score(y_test, y_rfc))\n",
    "print(\"Confusion matrix: \\n\", metrics.confusion_matrix(y_test, y_rfc))\n",
    "print(\"Classification report:\\n \", metrics.classification_report(y_test, y_rfc))"
   ]
  },
  {
   "cell_type": "code",
   "execution_count": 30,
   "metadata": {},
   "outputs": [
    {
     "name": "stdout",
     "output_type": "stream",
     "text": [
      "[0.971 0.968 0.963]\n",
      "0.9673333333333334\n"
     ]
    }
   ],
   "source": [
    "scores = cross_val_score(RandomForestClassifier(n_estimators=100, max_features='auto', oob_score=True, random_state=1), X_test, y_test, scoring='accuracy', cv=3)\n",
    "print(scores)\n",
    "print(scores.mean())"
   ]
  },
  {
   "cell_type": "code",
   "execution_count": 31,
   "metadata": {},
   "outputs": [
    {
     "data": {
      "text/plain": [
       "0.97"
      ]
     },
     "execution_count": 31,
     "metadata": {},
     "output_type": "execute_result"
    }
   ],
   "source": [
    "rfc.oob_score_"
   ]
  },
  {
   "cell_type": "markdown",
   "metadata": {},
   "source": [
    "<h2>Q.5</h2>"
   ]
  },
  {
   "cell_type": "code",
   "execution_count": 32,
   "metadata": {},
   "outputs": [],
   "source": [
    "df = pd.read_csv('24032021-covid19-cdc-deathyn-recent-10k.csv')"
   ]
  },
  {
   "cell_type": "code",
   "execution_count": 33,
   "metadata": {},
   "outputs": [],
   "source": [
    "# Change 'Missing' to 'Unknown'\n",
    "df.loc[(df['sex'] == 'Missing') | (df['sex'] == 'Other'), 'sex'] = 'Unknown'\n",
    "df.loc[(df['race_ethnicity_combined'] == 'Missing'), 'race_ethnicity_combined'] = 'Unknown'\n",
    "df.loc[(df['hosp_yn'] == 'Missing') | (df['hosp_yn'] == 'OTH'), 'hosp_yn'] = 'Unknown'\n",
    "df.loc[(df['icu_yn'] == 'Missing'), 'icu_yn'] = 'Unknown'\n",
    "df.loc[(df['medcond_yn'] == 'Missing'), 'medcond_yn'] = 'Unknown'"
   ]
  },
  {
   "cell_type": "code",
   "execution_count": 34,
   "metadata": {},
   "outputs": [],
   "source": [
    "# Change datatypes\n",
    "df = df.astype({\"age_group\": \"category\",\n",
    "                \"current_status\": 'category', \n",
    "                \"sex\": 'category', \n",
    "                \"race_ethnicity_combined\": 'category',\n",
    "                \"hosp_yn\": 'category', \n",
    "                \"icu_yn\": 'category', \n",
    "                \"death_yn\": 'category', \n",
    "                \"medcond_yn\": 'category'\n",
    "               })"
   ]
  },
  {
   "cell_type": "code",
   "execution_count": 35,
   "metadata": {},
   "outputs": [],
   "source": [
    "df_all = pd.get_dummies(df, drop_first=True)\n",
    "X = df_all[features]\n",
    "y = df_all.death_yn_Yes"
   ]
  },
  {
   "cell_type": "code",
   "execution_count": 36,
   "metadata": {},
   "outputs": [
    {
     "data": {
      "text/html": [
       "<div>\n",
       "<style scoped>\n",
       "    .dataframe tbody tr th:only-of-type {\n",
       "        vertical-align: middle;\n",
       "    }\n",
       "\n",
       "    .dataframe tbody tr th {\n",
       "        vertical-align: top;\n",
       "    }\n",
       "\n",
       "    .dataframe thead th {\n",
       "        text-align: right;\n",
       "    }\n",
       "</style>\n",
       "<table border=\"1\" class=\"dataframe\">\n",
       "  <thead>\n",
       "    <tr style=\"text-align: right;\">\n",
       "      <th></th>\n",
       "      <th>death_yn_Yes</th>\n",
       "      <th>Predicted</th>\n",
       "    </tr>\n",
       "  </thead>\n",
       "  <tbody>\n",
       "    <tr>\n",
       "      <th>0</th>\n",
       "      <td>0</td>\n",
       "      <td>0</td>\n",
       "    </tr>\n",
       "    <tr>\n",
       "      <th>1</th>\n",
       "      <td>0</td>\n",
       "      <td>0</td>\n",
       "    </tr>\n",
       "    <tr>\n",
       "      <th>2</th>\n",
       "      <td>0</td>\n",
       "      <td>0</td>\n",
       "    </tr>\n",
       "    <tr>\n",
       "      <th>3</th>\n",
       "      <td>0</td>\n",
       "      <td>0</td>\n",
       "    </tr>\n",
       "    <tr>\n",
       "      <th>4</th>\n",
       "      <td>0</td>\n",
       "      <td>0</td>\n",
       "    </tr>\n",
       "    <tr>\n",
       "      <th>5</th>\n",
       "      <td>0</td>\n",
       "      <td>0</td>\n",
       "    </tr>\n",
       "    <tr>\n",
       "      <th>6</th>\n",
       "      <td>0</td>\n",
       "      <td>0</td>\n",
       "    </tr>\n",
       "    <tr>\n",
       "      <th>7</th>\n",
       "      <td>0</td>\n",
       "      <td>0</td>\n",
       "    </tr>\n",
       "    <tr>\n",
       "      <th>8</th>\n",
       "      <td>0</td>\n",
       "      <td>0</td>\n",
       "    </tr>\n",
       "    <tr>\n",
       "      <th>9</th>\n",
       "      <td>0</td>\n",
       "      <td>0</td>\n",
       "    </tr>\n",
       "  </tbody>\n",
       "</table>\n",
       "</div>"
      ],
      "text/plain": [
       "   death_yn_Yes  Predicted\n",
       "0             0          0\n",
       "1             0          0\n",
       "2             0          0\n",
       "3             0          0\n",
       "4             0          0\n",
       "5             0          0\n",
       "6             0          0\n",
       "7             0          0\n",
       "8             0          0\n",
       "9             0          0"
      ]
     },
     "execution_count": 36,
     "metadata": {},
     "output_type": "execute_result"
    }
   ],
   "source": [
    "y_rfc = rfc.predict(X)\n",
    "rfc_pred = pd.concat([y, pd.DataFrame(y_rfc, columns=['Predicted'], index=X.index)], axis=1)\n",
    "rfc_pred.head(10)"
   ]
  },
  {
   "cell_type": "code",
   "execution_count": 37,
   "metadata": {},
   "outputs": [
    {
     "name": "stdout",
     "output_type": "stream",
     "text": [
      "Accuracy:  0.9869\n",
      "Confusion matrix: \n",
      " [[9861   18]\n",
      " [ 113    8]]\n",
      "Classification report:\n",
      "                precision    recall  f1-score   support\n",
      "\n",
      "           0       0.99      1.00      0.99      9879\n",
      "           1       0.31      0.07      0.11       121\n",
      "\n",
      "    accuracy                           0.99     10000\n",
      "   macro avg       0.65      0.53      0.55     10000\n",
      "weighted avg       0.98      0.99      0.98     10000\n",
      "\n"
     ]
    }
   ],
   "source": [
    "print(\"Accuracy: \", metrics.accuracy_score(y, y_rfc))\n",
    "print(\"Confusion matrix: \\n\", metrics.confusion_matrix(y, y_rfc))\n",
    "print(\"Classification report:\\n \", metrics.classification_report(y, y_rfc))"
   ]
  },
  {
   "cell_type": "code",
   "execution_count": 38,
   "metadata": {},
   "outputs": [
    {
     "name": "stdout",
     "output_type": "stream",
     "text": [
      "[0.971 0.968 0.963]\n",
      "0.9673333333333334\n"
     ]
    }
   ],
   "source": [
    "scores = cross_val_score(RandomForestClassifier(n_estimators=100, max_features='auto', oob_score=True, random_state=1), X_test, y_test, scoring='accuracy', cv=3)\n",
    "print(scores)\n",
    "print(scores.mean())"
   ]
  },
  {
   "cell_type": "code",
   "execution_count": 39,
   "metadata": {},
   "outputs": [
    {
     "data": {
      "text/plain": [
       "0.97"
      ]
     },
     "execution_count": 39,
     "metadata": {},
     "output_type": "execute_result"
    }
   ],
   "source": [
    "rfc.oob_score_"
   ]
  },
  {
   "cell_type": "markdown",
   "metadata": {},
   "source": [
    "A basic model that predicts 'No' for all cases would be around 98.8% accurate. My model predicted 8 out of 121 'Yes' cases correctly, which is only slightly better than the basic model.It also had 18 false positives, which caused it's accuracy to be slightly lower than the basic model at 98.7%."
   ]
  },
  {
   "cell_type": "code",
   "execution_count": null,
   "metadata": {},
   "outputs": [],
   "source": []
  }
 ],
 "metadata": {
  "kernelspec": {
   "display_name": "Python 3",
   "language": "python",
   "name": "python3"
  },
  "language_info": {
   "codemirror_mode": {
    "name": "ipython",
    "version": 3
   },
   "file_extension": ".py",
   "mimetype": "text/x-python",
   "name": "python",
   "nbconvert_exporter": "python",
   "pygments_lexer": "ipython3",
   "version": "3.8.5"
  }
 },
 "nbformat": 4,
 "nbformat_minor": 4
}
