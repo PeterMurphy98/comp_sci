{
 "cells": [
  {
   "cell_type": "markdown",
   "metadata": {},
   "source": [
    "# Multiprocessing using Pools \n",
    "A simple framework for assessing the impact of multiprocessing on runtime on a multi-core machine. "
   ]
  },
  {
   "cell_type": "code",
   "execution_count": 1,
   "metadata": {},
   "outputs": [],
   "source": [
    "import time\n",
    "import math\n",
    "import multiprocessing\n",
    "from multiprocessing import Pool\n",
    "import matplotlib.pyplot as plt\n",
    "import os\n",
    "import miscFunc as miscFunc # if miscFunc.py is changed the kernel needs to be restarted. \n",
    "\n",
    "# A function for timing a job that uses a pool of processes.\n",
    "#  f is a function that takes a single argument\n",
    "#  data is an array of arguments on which f will be mapped\n",
    "#  pool_size is the number of processes in the pool. \n",
    "def pool_process(f, data, pool_size):\n",
    "    tp1 = time.time()\n",
    "    pool = Pool(processes=pool_size) # initialize the Pool.\n",
    "    result = pool.map(f, data)       # map f to the data using the Pool of processes to do the work \n",
    "    pool.close() # No more processes\n",
    "    pool.join()  # Wait for the pool processing to complete. \n",
    "    #print(\"Results\", result)\n",
    "    print(\"Overall Time: {:.2f}\".format(float(time.time()-tp1)))\n",
    "    return float(time.time()-tp1)\n",
    " "
   ]
  },
  {
   "cell_type": "code",
   "execution_count": 2,
   "metadata": {},
   "outputs": [],
   "source": [
    "# n = number of primes to check\n",
    "n = 40\n",
    "check_work = [1000003]*n\n",
    "# number of cores to use\n",
    "cores = os.cpu_count()"
   ]
  },
  {
   "cell_type": "code",
   "execution_count": 3,
   "metadata": {},
   "outputs": [
    {
     "name": "stdout",
     "output_type": "stream",
     "text": [
      "Overall Time: 2.67\n",
      "Overall Time: 1.81\n",
      "Overall Time: 1.63\n",
      "Overall Time: 1.59\n",
      "Overall Time: 1.50\n",
      "Overall Time: 1.68\n",
      "Overall Time: 1.74\n",
      "Overall Time: 1.87\n"
     ]
    }
   ],
   "source": [
    "# store check_prime runtime for each number of cores\n",
    "x = []\n",
    "y = []\n",
    "for i in range(cores):\n",
    "    y.append(pool_process(miscFunc.check_prime, check_work, i+1))\n",
    "    x.append(i+1)"
   ]
  },
  {
   "cell_type": "code",
   "execution_count": 4,
   "metadata": {},
   "outputs": [
    {
     "name": "stdout",
     "output_type": "stream",
     "text": [
      "Overall Time: 3.17\n",
      "Overall Time: 2.41\n",
      "Overall Time: 2.21\n",
      "Overall Time: 1.87\n",
      "Overall Time: 1.99\n",
      "Overall Time: 1.87\n",
      "Overall Time: 2.23\n",
      "Overall Time: 2.17\n"
     ]
    }
   ],
   "source": [
    "# store fibonacci runtime for each number of cores\n",
    "check_work2 = [27]*16\n",
    "x2 = []\n",
    "y2 = []\n",
    "for i in range(cores):\n",
    "    y2.append(pool_process(miscFunc.fibonacci, check_work2, i+1))\n",
    "    x2.append(i+1)"
   ]
  },
  {
   "cell_type": "code",
   "execution_count": 5,
   "metadata": {},
   "outputs": [
    {
     "data": {
      "text/plain": [
       "<matplotlib.legend.Legend at 0x27e7fd9a3d0>"
      ]
     },
     "execution_count": 5,
     "metadata": {},
     "output_type": "execute_result"
    },
    {
     "data": {
      "image/png": "[encoded data removed]",
      "text/plain": [
       "<Figure size 432x288 with 1 Axes>"
      ]
     },
     "metadata": {
      "needs_background": "light"
     },
     "output_type": "display_data"
    }
   ],
   "source": [
    "# plot runtime vs cores for each function\n",
    "plt.plot(x,y, label=\"check_prime\")\n",
    "plt.scatter(x,y)\n",
    "plt.plot(x2,y2, label=\"fibonacci\")\n",
    "plt.scatter(x2,y2)\n",
    "plt.title('Effect of Multiprocessing')\n",
    "plt.ylabel(\"Time (s)\")\n",
    "plt.xlabel(\"Number of Cores\")\n",
    "plt.legend()"
   ]
  },
  {
   "cell_type": "code",
   "execution_count": null,
   "metadata": {},
   "outputs": [],
   "source": []
  },
  {
   "cell_type": "code",
   "execution_count": null,
   "metadata": {},
   "outputs": [],
   "source": []
  }
 ],
 "metadata": {
  "anaconda-cloud": {},
  "kernelspec": {
   "display_name": "Python 3",
   "language": "python",
   "name": "python3"
  },
  "language_info": {
   "codemirror_mode": {
    "name": "ipython",
    "version": 3
   },
   "file_extension": ".py",
   "mimetype": "text/x-python",
   "name": "python",
   "nbconvert_exporter": "python",
   "pygments_lexer": "ipython3",
   "version": "3.8.5"
  }
 },
 "nbformat": 4,
 "nbformat_minor": 1
}
