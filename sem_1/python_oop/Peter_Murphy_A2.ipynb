{
 "cells": [
  {
   "cell_type": "markdown",
   "metadata": {},
   "source": [
    "MySeries takes a series and an optional index as input, and creates a dictionary using the index and series as key-value pairs (If no index is provided, the key is [0, 1, ...] )."
   ]
  },
  {
   "cell_type": "code",
   "execution_count": null,
   "metadata": {},
   "outputs": [],
   "source": [
    "class MySeries:\n",
    "    def __init__(self, series, **kwargs):\n",
    "        # Initialize dictionary to store series\n",
    "        d ={}\n",
    "        # Check if series is a list\n",
    "        if isinstance(series, list):      \n",
    "            # If index provided\n",
    "            if 'index' in kwargs:\n",
    "                for i in range(len(series)):\n",
    "                    # Add each key-value pair to s_dict with provided index\n",
    "                    d[kwargs['index'][i]] = series[i]\n",
    "                self.s_dict = d\n",
    "            else:\n",
    "                # Add each key-value pair to s_dict with generated index\n",
    "                for i in range(len(series)):\n",
    "                    d[i] = series[i]\n",
    "                self.s_dict = d\n",
    "        # Check if series is a dictionary\n",
    "        elif isinstance(series, dict):\n",
    "            # Copy dictionary\n",
    "            self.s_dict = series\n",
    "        # If series not list or dictionary\n",
    "        else:\n",
    "            print('Invalid series: must be list or dict.')\n",
    "        \n",
    "    # Max, min, mean and print methods\n",
    "    def max(self):\n",
    "        return max(self.s_dict.values())\n",
    "    \n",
    "    def min(self):\n",
    "        return min(self.s_dict.values())\n",
    "    \n",
    "    def mean(self):\n",
    "        return sum(self.s_dict.values())/len(self.s_dict)\n",
    "            \n",
    "    def print(self):\n",
    "        for k in self.s_dict:\n",
    "            print('{:<5} {}'.format(k, self.s_dict[k]))"
   ]
  },
  {
   "cell_type": "code",
   "execution_count": null,
   "metadata": {},
   "outputs": [],
   "source": [
    "ms3 = MySeries([1,2,1], index = ['a','b','c'])\n",
    "ms3.s_dict"
   ]
  },
  {
   "cell_type": "code",
   "execution_count": null,
   "metadata": {},
   "outputs": [],
   "source": [
    "ms4 = MySeries([4,5,6])\n",
    "ms4.s_dict"
   ]
  },
  {
   "cell_type": "code",
   "execution_count": null,
   "metadata": {},
   "outputs": [],
   "source": [
    "d = {'b': 1, 'a': 0, 'c': 2}\n",
    "s2 = MySeries(d)\n",
    "s2.s_dict"
   ]
  },
  {
   "cell_type": "code",
   "execution_count": null,
   "metadata": {},
   "outputs": [],
   "source": [
    "ms3 = MySeries([1,2,1], index = ['a','b','c'])\n",
    "ms3.print()"
   ]
  },
  {
   "cell_type": "markdown",
   "metadata": {},
   "source": [
    "MyDataFrame takes a dictionary and optional index as input. It has the instance variables: <br>\n",
    "dict - the input dictionary <br>\n",
    "columns - a dictionary with the column names as keys, and a MySeries of the columns and index as values. <br>\n",
    "rows - a dictionary with the index as keys, and a list of the corresponding column values as values. <br>\n",
    "ind - the input index ( [0, 1, 2, ...] if none is provided) <br>\n",
    "And the methods: <br>\n",
    "print() - prints a table of the dataframe <br>\n",
    "sort_values(column) - sorts the rows using the values of the input column <br>\n",
    "max(), min() and mean () - print the max/min/mean values from each column "
   ]
  },
  {
   "cell_type": "code",
   "execution_count": null,
   "metadata": {},
   "outputs": [],
   "source": [
    "class MyDataFrame:\n",
    "    def __init__(self, d, **kwargs):\n",
    "        # Check d is a dictionary\n",
    "        if isinstance(d, dict):\n",
    "            self.dict = d\n",
    "            # Create columns dictionary\n",
    "            self.columns = {}          \n",
    "            # If index entered\n",
    "            if 'index' in kwargs:\n",
    "                # Copy index list\n",
    "                self.ind = kwargs['index']\n",
    "                for k in self.dict:\n",
    "                    # Create MySeries for each key-value pair and add to columns dictionaary\n",
    "                    col = MySeries(self.dict[k], index=self.ind)\n",
    "                    self.columns[k] = col\n",
    "            # Else if no index entered\n",
    "            else:\n",
    "                for k in self.dict:\n",
    "                    # Create MySeries for each key-value pair and add to columns dictionaary\n",
    "                    col = MySeries(self.dict[k])\n",
    "                    self.columns[k] = col\n",
    "                # Create index list\n",
    "                self.ind = []\n",
    "                for i in range(len(list(self.dict.values())[0])):\n",
    "                    self.ind += [i]\n",
    "            # Create rows dictionary\n",
    "            self.rows = {}     \n",
    "            # For each index value\n",
    "            for i in range(len(self.ind)):\n",
    "                row = []\n",
    "                # Add the i-th value from each column to a row\n",
    "                for k in self.dict:\n",
    "                    row += [self.dict[k][i]]\n",
    "                # Add row to rows dictionary \n",
    "                self.rows[self.ind[i]] = row \n",
    "        else:\n",
    "            print('Error: input must be of type dict.')\n",
    "\n",
    "    # Print table\n",
    "    def print(self):\n",
    "        # Print column headings\n",
    "        print('{:<10}'.format(''), end = '')\n",
    "        for k in self.columns:\n",
    "            print('{:>15}'.format(k), end='')\n",
    "        print('')\n",
    "        # Print rows\n",
    "        for k in self.rows:\n",
    "            # Print row key\n",
    "            print('{:<10}'.format(k), end='')\n",
    "            # Print row values\n",
    "            for i in range(len(self.dict)):\n",
    "                print('{:>15}'.format(self.rows[k][i]), end='')\n",
    "            print('')\n",
    "  \n",
    "    # Sort by column values\n",
    "    def sort_values(self, col):\n",
    "        # Make a copy of rows dictionary\n",
    "        old_rows = self.rows\n",
    "        # Empty row dictionary\n",
    "        self.rows = {}\n",
    "        # Sort row keys by column values\n",
    "        sorted_keys = sorted(self.columns[col].s_dict, key=self.columns[col].s_dict.get)\n",
    "        # Add rows back to rows dictionary using sorted keys\n",
    "        for k in sorted_keys:\n",
    "            self.rows[k] = old_rows[k]\n",
    "            \n",
    "    # Max column values\n",
    "    def max(self):\n",
    "        # For each column\n",
    "        for k in self.columns:\n",
    "            # Check if first value is a number\n",
    "            check = list(self.columns[k].s_dict.values())[0]\n",
    "            if isinstance(check, int) or isinstance(check, float):\n",
    "                print('{:<15} {:<10.2f}'.format(k, self.columns[k].max()))\n",
    "            \n",
    "    # Min column values\n",
    "    def min(self):\n",
    "        # For each column\n",
    "        for k in self.columns:\n",
    "            # Check if first value is a number\n",
    "            check = list(self.columns[k].s_dict.values())[0]\n",
    "            if isinstance(check, int) or isinstance(check, float):\n",
    "                print('{:<15} {:<10}'.format(k, self.columns[k].min()))\n",
    "            \n",
    "    # Mean column values\n",
    "    def mean(self):\n",
    "        # For each column\n",
    "        for k in self.columns:\n",
    "            # Check if first value is a number\n",
    "            check = list(self.columns[k].s_dict.values())[0]\n",
    "            if isinstance(check, int) or isinstance(check, float):\n",
    "                print('{:<15} {:<10.2f}'.format(k, self.columns[k].mean()))        "
   ]
  },
  {
   "cell_type": "code",
   "execution_count": null,
   "metadata": {},
   "outputs": [],
   "source": [
    "d = {'Sun Hours': [4.5,4.0,5.1,5],\n",
    "     'Max Temp': [19.6,19.1,19.6,20.0],\n",
    "     'Min Temp': [12.7,12.5,13.3,12.1],\n",
    "     'Rain (mm)': [82,109,65,76],\n",
    "     'Rain Days': [13,20,10,9.7]}\n",
    "df1 = MyDataFrame(d)\n",
    "df2 = MyDataFrame(d, index = ['Clare', 'Galway','Dublin', \n",
    "  'Wexford'])\n",
    "\n",
    "df2.print()"
   ]
  },
  {
   "cell_type": "code",
   "execution_count": null,
   "metadata": {},
   "outputs": [],
   "source": [
    "df2.sort_values('Rain (mm)')\n",
    "df2.print()"
   ]
  },
  {
   "cell_type": "code",
   "execution_count": null,
   "metadata": {},
   "outputs": [],
   "source": [
    "df2.mean()"
   ]
  },
  {
   "cell_type": "code",
   "execution_count": null,
   "metadata": {},
   "outputs": [],
   "source": [
    "df2.max()"
   ]
  },
  {
   "cell_type": "code",
   "execution_count": null,
   "metadata": {},
   "outputs": [],
   "source": [
    "df2.min()"
   ]
  },
  {
   "cell_type": "code",
   "execution_count": null,
   "metadata": {},
   "outputs": [],
   "source": [
    "# Example 2\n",
    "films = {'Rank': [112,62,41,172,230,176],\n",
    "        'Release Year': [1973,1980,1960,2015,1976,1996],\n",
    "        'IMDB Rating': [8.3,8.4,8.5,8.1,8.1,8.1],\n",
    "        'Time (minutes)': [129,146,109,118,120,98],\n",
    "        'Main Genre': ['Comedy','Horror','Horror','Drama','Drama','Drama']}\n",
    "f_names = ['Sting','Shining', 'Psycho','Room','Rocky','Fargo']\n",
    "\n",
    "films_df =  MyDataFrame(films, index = f_names) \n",
    "films_df.print()"
   ]
  },
  {
   "cell_type": "code",
   "execution_count": null,
   "metadata": {},
   "outputs": [],
   "source": [
    "films_df.mean()"
   ]
  },
  {
   "cell_type": "code",
   "execution_count": null,
   "metadata": {},
   "outputs": [],
   "source": [
    "films_df.sort_values('Release Year')\n",
    "films_df.print()"
   ]
  },
  {
   "cell_type": "code",
   "execution_count": null,
   "metadata": {},
   "outputs": [],
   "source": [
    "films_df.ind"
   ]
  },
  {
   "cell_type": "code",
   "execution_count": null,
   "metadata": {},
   "outputs": [],
   "source": []
  }
 ],
 "metadata": {
  "kernelspec": {
   "display_name": "Python 3",
   "language": "python",
   "name": "python3"
  },
  "language_info": {
   "codemirror_mode": {
    "name": "ipython",
    "version": 3
   },
   "file_extension": ".py",
   "mimetype": "text/x-python",
   "name": "python",
   "nbconvert_exporter": "python",
   "pygments_lexer": "ipython3",
   "version": "3.8.5"
  }
 },
 "nbformat": 4,
 "nbformat_minor": 4
}
